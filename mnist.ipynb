{
 "cells": [
  {
   "cell_type": "markdown",
   "id": "65aa11e0-9536-4f67-b39d-989afc03dc3b",
   "metadata": {},
   "source": [
    "Tensor Flow Implementation"
   ]
  },
  {
   "cell_type": "code",
   "execution_count": 10,
   "id": "3ee0f5cc-d8f3-46e3-8cd9-3ee984a400bc",
   "metadata": {},
   "outputs": [
    {
     "name": "stdout",
     "output_type": "stream",
     "text": [
      "Epoch 1/5\n",
      "\u001b[1m469/469\u001b[0m \u001b[32m━━━━━━━━━━━━━━━━━━━━\u001b[0m\u001b[37m\u001b[0m \u001b[1m1s\u001b[0m 2ms/step - accuracy: 0.8778 - loss: 0.4325\n",
      "Epoch 2/5\n",
      "\u001b[1m469/469\u001b[0m \u001b[32m━━━━━━━━━━━━━━━━━━━━\u001b[0m\u001b[37m\u001b[0m \u001b[1m1s\u001b[0m 2ms/step - accuracy: 0.9663 - loss: 0.1167\n",
      "Epoch 3/5\n",
      "\u001b[1m469/469\u001b[0m \u001b[32m━━━━━━━━━━━━━━━━━━━━\u001b[0m\u001b[37m\u001b[0m \u001b[1m1s\u001b[0m 2ms/step - accuracy: 0.9785 - loss: 0.0718\n",
      "Epoch 4/5\n",
      "\u001b[1m469/469\u001b[0m \u001b[32m━━━━━━━━━━━━━━━━━━━━\u001b[0m\u001b[37m\u001b[0m \u001b[1m1s\u001b[0m 2ms/step - accuracy: 0.9845 - loss: 0.0516\n",
      "Epoch 5/5\n",
      "\u001b[1m469/469\u001b[0m \u001b[32m━━━━━━━━━━━━━━━━━━━━\u001b[0m\u001b[37m\u001b[0m \u001b[1m1s\u001b[0m 2ms/step - accuracy: 0.9889 - loss: 0.0382\n",
      "\u001b[1m313/313\u001b[0m \u001b[32m━━━━━━━━━━━━━━━━━━━━\u001b[0m\u001b[37m\u001b[0m \u001b[1m0s\u001b[0m 425us/step - accuracy: 0.9766 - loss: 0.0763\n",
      "test loss: 0.06642106920480728, test acc: 0.9797000288963318\n"
     ]
    }
   ],
   "source": [
    "from keras.datasets import mnist \n",
    "from keras import models \n",
    "from keras import layers \n",
    "from keras.utils import to_categorical \n",
    "\n",
    "(train_images, train_labels), (test_images, test_labels) = mnist.load_data()\n",
    "\n",
    "def train_mnist(train_images, train_labels, test_images, test_labels, **kwargs):\n",
    "    train_images = train_images.reshape((60000, 28 * 28))\n",
    "    train_images = train_images.astype('float32') / 255\n",
    "    test_images = test_images.reshape((10000, 28 * 28))\n",
    "    test_images = test_images.astype('float32') / 255\n",
    "    \n",
    "    train_labels = to_categorical(train_labels)\n",
    "    test_labels = to_categorical(test_labels)\n",
    "    \n",
    "    network = models.Sequential()\n",
    "    network.add(layers.Dense(512, activation='relu', input_shape=(28 * 28,)))\n",
    "    network.add(layers.Dense(10, activation='softmax'))\n",
    "    \n",
    "    network.compile(\n",
    "        optimizer='rmsprop', \n",
    "        loss='categorical_crossentropy', \n",
    "        metrics=['accuracy']\n",
    "    )\n",
    "    \n",
    "    network.fit(train_images, train_labels, epochs=5, batch_size=128)\n",
    "    \n",
    "    test_loss, test_acc = network.evaluate(test_images, test_labels)\n",
    "    return test_loss, test_acc \n",
    "\n",
    "if __name__ == \"__main__\":\n",
    "    test_loss, test_acc = train_mnist(train_images, train_labels, test_images, test_labels)\n",
    "    print(f\"test loss: {test_loss}, test acc: {test_acc}\")\n"
   ]
  },
  {
   "cell_type": "code",
   "execution_count": null,
   "id": "6eb13d1b-66b4-46ba-a5e5-e17064fd0e79",
   "metadata": {},
   "outputs": [],
   "source": []
  }
 ],
 "metadata": {
  "kernelspec": {
   "display_name": "Python 3 (ipykernel)",
   "language": "python",
   "name": "python3"
  },
  "language_info": {
   "codemirror_mode": {
    "name": "ipython",
    "version": 3
   },
   "file_extension": ".py",
   "mimetype": "text/x-python",
   "name": "python",
   "nbconvert_exporter": "python",
   "pygments_lexer": "ipython3",
   "version": "3.12.2"
  }
 },
 "nbformat": 4,
 "nbformat_minor": 5
}
