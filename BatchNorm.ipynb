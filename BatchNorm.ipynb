{
 "cells": [
  {
   "cell_type": "code",
   "execution_count": 27,
   "id": "27ab1044-a4fa-4afb-a0a8-286e1a8582fb",
   "metadata": {},
   "outputs": [],
   "source": [
    "import torch\n",
    "import torch.nn as nn \n",
    "import torch.optim as optim \n",
    "from sklearn.datasets import load_digits\n",
    "from sklearn.model_selection import train_test_split \n",
    "from sklearn.preprocessing import StandardScaler\n",
    "from torch.utils.data import DataLoader, TensorDataset\n",
    "import numpy as np"
   ]
  },
  {
   "cell_type": "code",
   "execution_count": 31,
   "id": "13485351-048a-4330-827c-6be65de24708",
   "metadata": {},
   "outputs": [],
   "source": [
    "digits = load_digits()\n",
    "X = digits.data\n",
    "y = digits.target"
   ]
  },
  {
   "cell_type": "code",
   "execution_count": 38,
   "id": "5c4a995f-8445-40ba-a22f-ba7f596fdc71",
   "metadata": {},
   "outputs": [],
   "source": [
    "scaler = StandardScaler()\n",
    "X_scaled = scaler.fit_transform(X)"
   ]
  },
  {
   "cell_type": "code",
   "execution_count": 39,
   "id": "8898ad9d-5fad-455e-beb9-8ae8bb0f9208",
   "metadata": {},
   "outputs": [],
   "source": [
    "X_train, X_test, y_train, y_test = train_test_split(X_scaled, y)"
   ]
  },
  {
   "cell_type": "code",
   "execution_count": 41,
   "id": "ab9a548b-2bd7-448e-be27-0d1bc42ed3d2",
   "metadata": {},
   "outputs": [],
   "source": [
    "X_train_tensor = torch.tensor(X_train, dtype=torch.float32)\n",
    "X_test_tensor = torch.tensor(X_test, dtype=torch.float32)\n",
    "y_train_tensor = torch.tensor(y_train, dtype=torch.long)\n",
    "y_test_tensor = torch.tensor(y_test, dtype=torch.long)"
   ]
  },
  {
   "cell_type": "code",
   "execution_count": 42,
   "id": "cc89b483-06d0-4b84-be7b-9d924dae863d",
   "metadata": {},
   "outputs": [],
   "source": [
    "train_dataset = TensorDataset(X_train_tensor, y_train_tensor)\n",
    "train_loader = DataLoader(train_dataset, batch_size=32, shuffle=True)"
   ]
  },
  {
   "cell_type": "code",
   "execution_count": 44,
   "id": "1d2fc60a-0392-4c93-8fa8-04dc933afb67",
   "metadata": {},
   "outputs": [
    {
     "name": "stdout",
     "output_type": "stream",
     "text": [
      "Epoch [1/10], Loss: 1.6360\n",
      "Epoch [2/10], Loss: 0.6902\n",
      "Epoch [3/10], Loss: 1.2879\n",
      "Epoch [4/10], Loss: 0.4222\n",
      "Epoch [5/10], Loss: 0.5763\n",
      "Epoch [6/10], Loss: 1.9255\n",
      "Epoch [7/10], Loss: 0.2558\n",
      "Epoch [8/10], Loss: 0.2967\n",
      "Epoch [9/10], Loss: 0.4225\n",
      "Epoch [10/10], Loss: 1.1459\n",
      "Test Accuracy: 0.9733\n"
     ]
    }
   ],
   "source": [
    "class NN(nn.Module):\n",
    "    def __init__(self):\n",
    "        super(NN, self).__init__()\n",
    "        self.fc1 = nn.Linear(64, 128)\n",
    "        self.batchnorm1 = nn.BatchNorm1d(128) # Apply BatchNorm on layer 1 output\n",
    "        self.fc2 = nn.Linear(128, 64)\n",
    "        self.batchnorm2 = nn.BatchNorm1d(64)\n",
    "        self.fc3 = nn.Linear(64, 10) #output size for 10 classes\n",
    "\n",
    "    def forward(self, x):\n",
    "        x = torch.relu(self.batchnorm1(self.fc1(x)))\n",
    "        x = torch.relu(self.batchnorm2(self.fc2(x)))\n",
    "        x = self.fc3(x) # No activation or batchnorm on the final layer (for classification)\n",
    "\n",
    "        return x\n",
    "\n",
    "model = NN()\n",
    "criterion = nn.CrossEntropyLoss() #Sparse Cross-Entropy\n",
    "optimizer = optim.Adam(model.parameters(), lr=0.001)\n",
    "\n",
    "num_epochs = 10\n",
    "for epoch in range(num_epochs):\n",
    "    model.train()\n",
    "    for batch_X, batch_y in train_loader:\n",
    "        optimizer.zero_grad()\n",
    "        outputs = model(batch_X)\n",
    "        loss = criterion(outputs, batch_y)\n",
    "        loss.backward()\n",
    "        optimizer.step()\n",
    "\n",
    "    print(f'Epoch [{epoch+1}/{num_epochs}], Loss: {loss.item():.4f}')\n",
    "\n",
    "model.eval()\n",
    "with torch.no_grad():\n",
    "    test_outputs = model(X_test_tensor)\n",
    "    _, predicted = torch.max(test_outputs, 1)\n",
    "    accuracy = (predicted == y_test_tensor).float().mean()\n",
    "    print(f'Test Accuracy: {accuracy:.4f}')\n"
   ]
  },
  {
   "cell_type": "code",
   "execution_count": null,
   "id": "6122ca5c-1b9f-4f10-9c4c-3f7dd405712b",
   "metadata": {},
   "outputs": [],
   "source": []
  },
  {
   "cell_type": "code",
   "execution_count": null,
   "id": "d4472a80-20f6-428c-b8a6-9cefbd5eafc9",
   "metadata": {},
   "outputs": [],
   "source": []
  },
  {
   "cell_type": "code",
   "execution_count": null,
   "id": "cb80ce46-4143-4898-8139-743476e36bb6",
   "metadata": {},
   "outputs": [],
   "source": []
  },
  {
   "cell_type": "code",
   "execution_count": null,
   "id": "ddd6e655-bae1-4789-ac0c-ffa96f380a36",
   "metadata": {},
   "outputs": [],
   "source": []
  },
  {
   "cell_type": "code",
   "execution_count": null,
   "id": "efcb562b-cef1-4fcb-9b86-4593cedab60a",
   "metadata": {},
   "outputs": [],
   "source": []
  },
  {
   "cell_type": "code",
   "execution_count": null,
   "id": "59b40404-04af-47c0-8cc2-4173dbeae736",
   "metadata": {},
   "outputs": [],
   "source": []
  },
  {
   "cell_type": "code",
   "execution_count": null,
   "id": "dc040cdd-142e-498e-a253-5ef0b7e4e891",
   "metadata": {},
   "outputs": [],
   "source": []
  },
  {
   "cell_type": "code",
   "execution_count": null,
   "id": "fdd8b124-0bad-4bb3-982d-7a9664b703f9",
   "metadata": {},
   "outputs": [],
   "source": []
  },
  {
   "cell_type": "code",
   "execution_count": null,
   "id": "e38b351c-057d-4205-a722-666a7814fda6",
   "metadata": {},
   "outputs": [],
   "source": []
  },
  {
   "cell_type": "code",
   "execution_count": null,
   "id": "233b653f-68ec-43f6-89bf-2d71ef5336a7",
   "metadata": {},
   "outputs": [],
   "source": []
  }
 ],
 "metadata": {
  "kernelspec": {
   "display_name": "Python 3 (ipykernel)",
   "language": "python",
   "name": "python3"
  },
  "language_info": {
   "codemirror_mode": {
    "name": "ipython",
    "version": 3
   },
   "file_extension": ".py",
   "mimetype": "text/x-python",
   "name": "python",
   "nbconvert_exporter": "python",
   "pygments_lexer": "ipython3",
   "version": "3.12.2"
  }
 },
 "nbformat": 4,
 "nbformat_minor": 5
}
